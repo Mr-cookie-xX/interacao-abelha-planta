{
 "cells": [
  {
   "cell_type": "code",
   "execution_count": 1,
   "id": "ab7695bd",
   "metadata": {},
   "outputs": [],
   "source": [
    "import pandas as pd"
   ]
  },
  {
   "cell_type": "code",
   "execution_count": 2,
   "id": "9afb0d39",
   "metadata": {},
   "outputs": [
    {
     "data": {
      "text/html": [
       "<div>\n",
       "<style scoped>\n",
       "    .dataframe tbody tr th:only-of-type {\n",
       "        vertical-align: middle;\n",
       "    }\n",
       "\n",
       "    .dataframe tbody tr th {\n",
       "        vertical-align: top;\n",
       "    }\n",
       "\n",
       "    .dataframe thead th {\n",
       "        text-align: right;\n",
       "    }\n",
       "</style>\n",
       "<table border=\"1\" class=\"dataframe\">\n",
       "  <thead>\n",
       "    <tr style=\"text-align: right;\">\n",
       "      <th></th>\n",
       "      <th>abelha</th>\n",
       "      <th>flor</th>\n",
       "    </tr>\n",
       "  </thead>\n",
       "  <tbody>\n",
       "    <tr>\n",
       "      <th>0</th>\n",
       "      <td>Apis mellifera</td>\n",
       "      <td>Andira anthelmia</td>\n",
       "    </tr>\n",
       "    <tr>\n",
       "      <th>1</th>\n",
       "      <td>Centris sp.1</td>\n",
       "      <td>Andira anthelmia</td>\n",
       "    </tr>\n",
       "    <tr>\n",
       "      <th>2</th>\n",
       "      <td>Centris sp.2</td>\n",
       "      <td>Andira anthelmia</td>\n",
       "    </tr>\n",
       "    <tr>\n",
       "      <th>5</th>\n",
       "      <td>Nannotrigona testaceicornis</td>\n",
       "      <td>Andira anthelmia</td>\n",
       "    </tr>\n",
       "    <tr>\n",
       "      <th>7</th>\n",
       "      <td>Oxytrigona cagafogo</td>\n",
       "      <td>Andira anthelmia</td>\n",
       "    </tr>\n",
       "    <tr>\n",
       "      <th>...</th>\n",
       "      <td>...</td>\n",
       "      <td>...</td>\n",
       "    </tr>\n",
       "    <tr>\n",
       "      <th>184</th>\n",
       "      <td>Megachile sp.5</td>\n",
       "      <td>Sphagneticola trilobata</td>\n",
       "    </tr>\n",
       "    <tr>\n",
       "      <th>185</th>\n",
       "      <td>Plebeia droryana</td>\n",
       "      <td>Sphagneticola trilobata</td>\n",
       "    </tr>\n",
       "    <tr>\n",
       "      <th>187</th>\n",
       "      <td>Ceratina sp.3</td>\n",
       "      <td>Stachytarpheta sp.</td>\n",
       "    </tr>\n",
       "    <tr>\n",
       "      <th>188</th>\n",
       "      <td>Paratetrapedia sp.3</td>\n",
       "      <td>Stachytarpheta sp.</td>\n",
       "    </tr>\n",
       "    <tr>\n",
       "      <th>189</th>\n",
       "      <td>Centris sp.1</td>\n",
       "      <td>Tecoma stans</td>\n",
       "    </tr>\n",
       "  </tbody>\n",
       "</table>\n",
       "<p>124 rows × 2 columns</p>\n",
       "</div>"
      ],
      "text/plain": [
       "                          abelha                     flor\n",
       "0                 Apis mellifera         Andira anthelmia\n",
       "1                   Centris sp.1         Andira anthelmia\n",
       "2                   Centris sp.2         Andira anthelmia\n",
       "5    Nannotrigona testaceicornis         Andira anthelmia\n",
       "7            Oxytrigona cagafogo         Andira anthelmia\n",
       "..                           ...                      ...\n",
       "184               Megachile sp.5  Sphagneticola trilobata\n",
       "185             Plebeia droryana  Sphagneticola trilobata\n",
       "187                Ceratina sp.3       Stachytarpheta sp.\n",
       "188          Paratetrapedia sp.3       Stachytarpheta sp.\n",
       "189                 Centris sp.1             Tecoma stans\n",
       "\n",
       "[124 rows x 2 columns]"
      ]
     },
     "execution_count": 2,
     "metadata": {},
     "output_type": "execute_result"
    }
   ],
   "source": [
    "df = pd.read_csv(filepath_or_buffer=\"data/resumo/interacoes.csv\", header=0)\\\n",
    "    .rename(\n",
    "        columns={\n",
    "            \"Visitante\": \"abelha\",\n",
    "            \"n° do indivíduo\": \"id_individuo\",\n",
    "            \"Em flor de:\": \"flor\",\n",
    "        }\n",
    "    )\\\n",
    "    .drop(['id_individuo'], axis=1)\\\n",
    "    .drop_duplicates(subset=['abelha', 'flor'])\n",
    "\n",
    "df.to_csv(\n",
    "    path_or_buf='data/resumo/interacoes-unicas.csv',\n",
    "    mode='w',\n",
    "    header=True,\n",
    "    index=False,\n",
    "    sep=','\n",
    ")\n",
    "\n",
    "df"
   ]
  },
  {
   "cell_type": "markdown",
   "id": "11b64dcd",
   "metadata": {},
   "source": [
    "Divida os dados em grupos, baseando-se na quantidade"
   ]
  },
  {
   "cell_type": "code",
   "execution_count": 3,
   "id": "0204a4e9",
   "metadata": {},
   "outputs": [],
   "source": [
    "df_count = df\\\n",
    "    .groupby(['flor'])\\\n",
    "    .count()\\\n",
    "    .rename({'abelha': 'count'}, axis=1)\\\n",
    "    .sort_values(by=['count'], ascending=False)"
   ]
  },
  {
   "cell_type": "code",
   "execution_count": 4,
   "id": "ca7af0b9",
   "metadata": {},
   "outputs": [],
   "source": [
    "size = 0\n",
    "\n",
    "for name, row in df_count.iterrows():\n",
    "    size += row['count']\n",
    "    if size >= df_count.sum(axis=0).to_list()[0] / 2:\n",
    "        break\n",
    "\n",
    "dfs = [\n",
    "    df[df['flor'].isin(df_count.loc[:name].index.to_list())],\n",
    "    df[df['flor'].isin(df_count.loc[name:].index.to_list())],\n",
    "]"
   ]
  },
  {
   "cell_type": "markdown",
   "id": "5cb76024",
   "metadata": {},
   "source": [
    "Arquivos de matriz de correlação\n",
    "\n",
    "Escrita do arquivo html"
   ]
  },
  {
   "cell_type": "code",
   "execution_count": 5,
   "id": "fa04d0ce",
   "metadata": {},
   "outputs": [],
   "source": [
    "from sankey import SankeyGraph\n",
    "\n",
    "for i in range(len(dfs)):\n",
    "\n",
    "    df_interacoes = pd.DataFrame(\n",
    "        0,\n",
    "        index=dfs[i]['flor'].drop_duplicates().to_list(),\n",
    "        columns=dfs[i]['abelha'].drop_duplicates().to_list()\n",
    "    )\n",
    "\n",
    "    for _, row in dfs[i].iterrows():\n",
    "        df_interacoes.at[row['flor'], row['abelha']] = 1\n",
    "\n",
    "    SankeyGraph(df=df_interacoes)\\\n",
    "        .write_html(\n",
    "            file=f\"data/resumo/interacoes-matriz-correlacao-{i}.html\",\n",
    "            title_text=f\"Flores x Abelhas [{i}]\",\n",
    "            font_size=15\n",
    "        )"
   ]
  }
 ],
 "metadata": {
  "kernelspec": {
   "display_name": "venv",
   "language": "python",
   "name": "python3"
  },
  "language_info": {
   "codemirror_mode": {
    "name": "ipython",
    "version": 3
   },
   "file_extension": ".py",
   "mimetype": "text/x-python",
   "name": "python",
   "nbconvert_exporter": "python",
   "pygments_lexer": "ipython3",
   "version": "3.12.3"
  }
 },
 "nbformat": 4,
 "nbformat_minor": 5
}
